{
 "cells": [
  {
   "cell_type": "code",
   "execution_count": 2,
   "metadata": {},
   "outputs": [
    {
     "name": "stdout",
     "output_type": "stream",
     "text": [
      "hello\n"
     ]
    }
   ],
   "source": [
    "\\print (\"hello\")\n"
   ]
  },
  {
   "cell_type": "code",
   "execution_count": 7,
   "metadata": {},
   "outputs": [
    {
     "name": "stdout",
     "output_type": "stream",
     "text": [
      "1\n",
      "2\n"
     ]
    }
   ],
   "source": [
    "for k in range (1 , 14, 3) :\n",
    "    print (k)"
   ]
  },
  {
   "cell_type": "code",
   "execution_count": 2,
   "metadata": {},
   "outputs": [
    {
     "name": "stdout",
     "output_type": "stream",
     "text": [
      " you are a senior citizen\n"
     ]
    }
   ],
   "source": [
    "a = int (input (\"enter your age :\"))\n",
    "\n",
    "if (a<12) :\n",
    "  print (\"you are a child\")\n",
    "\n",
    "if (12<a<19) :\n",
    "   print (\" you are a teenager \")\n",
    "\n",
    "if (19<a<30) :\n",
    "    print  (\" you are a young adult \")\n",
    "\n",
    "if (30<a<50) :\n",
    "   print (\" you are an adult \")\n",
    "\n",
    "if (50<a<60) :\n",
    "    print (\" you are a senior citizen\")\n",
    "\n"
   ]
  },
  {
   "cell_type": "code",
   "execution_count": 10,
   "metadata": {},
   "outputs": [
    {
     "name": "stdout",
     "output_type": "stream",
     "text": [
      " you can drive , vote and stand in elections too !!\n"
     ]
    }
   ],
   "source": [
    "a = int (input (\" Enter your age :\"))\n",
    "\n",
    "if (a<18) : \n",
    "   print (\" you are underage and cannot drive and vote . \")\n",
    "if (18<a<25) :\n",
    "   print (\" you can drive and vote to your favourite politician . \")\n",
    "\n",
    "\n",
    "else :\n",
    "   print (\" you can drive , vote and stand in elections too !!\")"
   ]
  },
  {
   "cell_type": "code",
   "execution_count": null,
   "metadata": {},
   "outputs": [],
   "source": [
    "import pandas as pd \n",
    "df = pd.read_csv(\"weather_data.csv\") #read weather.csv data \n",
    "df "
   ]
  },
  {
   "cell_type": "code",
   "execution_count": 2,
   "metadata": {},
   "outputs": [
    {
     "ename": "ModuleNotFoundError",
     "evalue": "No module named 'numpy'",
     "output_type": "error",
     "traceback": [
      "\u001b[1;31m---------------------------------------------------------------------------\u001b[0m",
      "\u001b[1;31mModuleNotFoundError\u001b[0m                       Traceback (most recent call last)",
      "\u001b[1;32mc:\\Users\\manis\\OneDrive\\Desktop\\programs\\tiry\\python proj\\python.ipynb Cell 5\u001b[0m line \u001b[0;36m1\n\u001b[1;32m----> <a href='vscode-notebook-cell:/c%3A/Users/manis/OneDrive/Desktop/programs/tiry/python%20proj/python.ipynb#W4sZmlsZQ%3D%3D?line=0'>1</a>\u001b[0m \u001b[39mimport\u001b[39;00m \u001b[39mnumpy\u001b[39;00m \u001b[39mas\u001b[39;00m \u001b[39mnp\u001b[39;00m\n\u001b[0;32m      <a href='vscode-notebook-cell:/c%3A/Users/manis/OneDrive/Desktop/programs/tiry/python%20proj/python.ipynb#W4sZmlsZQ%3D%3D?line=1'>2</a>\u001b[0m \u001b[39mimport\u001b[39;00m \u001b[39mpandas\u001b[39;00m \u001b[39mas\u001b[39;00m \u001b[39mpd\u001b[39;00m\n\u001b[0;32m      <a href='vscode-notebook-cell:/c%3A/Users/manis/OneDrive/Desktop/programs/tiry/python%20proj/python.ipynb#W4sZmlsZQ%3D%3D?line=3'>4</a>\u001b[0m movies  \u001b[39m=\u001b[39m pd\u001b[39m.\u001b[39mread_csv(\u001b[39m'\u001b[39m\u001b[39marchive/tmdb_5000_movies.csv\u001b[39m\u001b[39m'\u001b[39m)\n",
      "\u001b[1;31mModuleNotFoundError\u001b[0m: No module named 'numpy'"
     ]
    }
   ],
   "source": [
    "import numpy as np\n",
    "import pandas as pd\n",
    "\n",
    "movies  = pd.read_csv('archive/tmdb_5000_movies.csv')\n",
    "credits = pd.read_csv('archive/tmdb_5000_credits.csv')\n",
    "\n",
    "movies.head()"
   ]
  },
  {
   "cell_type": "code",
   "execution_count": null,
   "metadata": {},
   "outputs": [],
   "source": [
    "credits.head()"
   ]
  },
  {
   "cell_type": "code",
   "execution_count": null,
   "metadata": {},
   "outputs": [],
   "source": [
    "def convert (obj) :\n",
    "    L=[]\n",
    "    for i in ast.literal_eval(obj) :\n",
    "          L.append(i['name'])\n",
    "\n",
    "    return L"
   ]
  }
 ],
 "metadata": {
  "kernelspec": {
   "display_name": "Python 3",
   "language": "python",
   "name": "python3"
  },
  "language_info": {
   "codemirror_mode": {
    "name": "ipython",
    "version": 3
   },
   "file_extension": ".py",
   "mimetype": "text/x-python",
   "name": "python",
   "nbconvert_exporter": "python",
   "pygments_lexer": "ipython3",
   "version": "3.11.6"
  },
  "orig_nbformat": 4
 },
 "nbformat": 4,
 "nbformat_minor": 2
}
